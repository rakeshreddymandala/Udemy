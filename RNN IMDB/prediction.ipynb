{
 "cells": [
  {
   "cell_type": "code",
   "execution_count": 19,
   "metadata": {},
   "outputs": [],
   "source": [
    "import numpy as np\n",
    "import tensorflow as tf\n",
    "from tensorflow.keras.datasets import imdb\n",
    "from tensorflow.keras.preprocessing import sequence\n",
    "from tensorflow.keras.models import Sequential,load_model\n",
    "from tensorflow.keras.layers import Embedding,SimpleRNN,Dense\n",
    "import pickle"
   ]
  },
  {
   "cell_type": "code",
   "execution_count": 20,
   "metadata": {},
   "outputs": [],
   "source": [
    "# Load the IMDB dataset word index\n",
    "word_index = imdb.get_word_index()\n",
    "reverse_word_index = {value: key for key, value in word_index.items()}"
   ]
  },
  {
   "cell_type": "code",
   "execution_count": 40,
   "metadata": {},
   "outputs": [
    {
     "name": "stderr",
     "output_type": "stream",
     "text": [
      "d:\\Udemy\\venv\\Lib\\site-packages\\keras\\src\\saving\\saving_lib.py:719: UserWarning: Skipping variable loading for optimizer 'rmsprop', because it has 8 variables whereas the saved optimizer has 14 variables. \n",
      "  saveable.load_own_variables(weights_store.get(inner_path))\n"
     ]
    },
    {
     "data": {
      "text/html": [
       "<pre style=\"white-space:pre;overflow-x:auto;line-height:normal;font-family:Menlo,'DejaVu Sans Mono',consolas,'Courier New',monospace\"><span style=\"font-weight: bold\">Model: \"sequential\"</span>\n",
       "</pre>\n"
      ],
      "text/plain": [
       "\u001b[1mModel: \"sequential\"\u001b[0m\n"
      ]
     },
     "metadata": {},
     "output_type": "display_data"
    },
    {
     "data": {
      "text/html": [
       "<pre style=\"white-space:pre;overflow-x:auto;line-height:normal;font-family:Menlo,'DejaVu Sans Mono',consolas,'Courier New',monospace\">┏━━━━━━━━━━━━━━━━━━━━━━━━━━━━━━━━━┳━━━━━━━━━━━━━━━━━━━━━━━━┳━━━━━━━━━━━━━━━┓\n",
       "┃<span style=\"font-weight: bold\"> Layer (type)                    </span>┃<span style=\"font-weight: bold\"> Output Shape           </span>┃<span style=\"font-weight: bold\">       Param # </span>┃\n",
       "┡━━━━━━━━━━━━━━━━━━━━━━━━━━━━━━━━━╇━━━━━━━━━━━━━━━━━━━━━━━━╇━━━━━━━━━━━━━━━┩\n",
       "│ embedding (<span style=\"color: #0087ff; text-decoration-color: #0087ff\">Embedding</span>)           │ (<span style=\"color: #00af00; text-decoration-color: #00af00\">32</span>, <span style=\"color: #00af00; text-decoration-color: #00af00\">500</span>, <span style=\"color: #00af00; text-decoration-color: #00af00\">128</span>)         │     <span style=\"color: #00af00; text-decoration-color: #00af00\">1,280,000</span> │\n",
       "├─────────────────────────────────┼────────────────────────┼───────────────┤\n",
       "│ simple_rnn (<span style=\"color: #0087ff; text-decoration-color: #0087ff\">SimpleRNN</span>)          │ (<span style=\"color: #00af00; text-decoration-color: #00af00\">32</span>, <span style=\"color: #00af00; text-decoration-color: #00af00\">128</span>)              │        <span style=\"color: #00af00; text-decoration-color: #00af00\">32,896</span> │\n",
       "├─────────────────────────────────┼────────────────────────┼───────────────┤\n",
       "│ dense (<span style=\"color: #0087ff; text-decoration-color: #0087ff\">Dense</span>)                   │ (<span style=\"color: #00af00; text-decoration-color: #00af00\">32</span>, <span style=\"color: #00af00; text-decoration-color: #00af00\">1</span>)                │           <span style=\"color: #00af00; text-decoration-color: #00af00\">129</span> │\n",
       "└─────────────────────────────────┴────────────────────────┴───────────────┘\n",
       "</pre>\n"
      ],
      "text/plain": [
       "┏━━━━━━━━━━━━━━━━━━━━━━━━━━━━━━━━━┳━━━━━━━━━━━━━━━━━━━━━━━━┳━━━━━━━━━━━━━━━┓\n",
       "┃\u001b[1m \u001b[0m\u001b[1mLayer (type)                   \u001b[0m\u001b[1m \u001b[0m┃\u001b[1m \u001b[0m\u001b[1mOutput Shape          \u001b[0m\u001b[1m \u001b[0m┃\u001b[1m \u001b[0m\u001b[1m      Param #\u001b[0m\u001b[1m \u001b[0m┃\n",
       "┡━━━━━━━━━━━━━━━━━━━━━━━━━━━━━━━━━╇━━━━━━━━━━━━━━━━━━━━━━━━╇━━━━━━━━━━━━━━━┩\n",
       "│ embedding (\u001b[38;5;33mEmbedding\u001b[0m)           │ (\u001b[38;5;34m32\u001b[0m, \u001b[38;5;34m500\u001b[0m, \u001b[38;5;34m128\u001b[0m)         │     \u001b[38;5;34m1,280,000\u001b[0m │\n",
       "├─────────────────────────────────┼────────────────────────┼───────────────┤\n",
       "│ simple_rnn (\u001b[38;5;33mSimpleRNN\u001b[0m)          │ (\u001b[38;5;34m32\u001b[0m, \u001b[38;5;34m128\u001b[0m)              │        \u001b[38;5;34m32,896\u001b[0m │\n",
       "├─────────────────────────────────┼────────────────────────┼───────────────┤\n",
       "│ dense (\u001b[38;5;33mDense\u001b[0m)                   │ (\u001b[38;5;34m32\u001b[0m, \u001b[38;5;34m1\u001b[0m)                │           \u001b[38;5;34m129\u001b[0m │\n",
       "└─────────────────────────────────┴────────────────────────┴───────────────┘\n"
      ]
     },
     "metadata": {},
     "output_type": "display_data"
    },
    {
     "data": {
      "text/html": [
       "<pre style=\"white-space:pre;overflow-x:auto;line-height:normal;font-family:Menlo,'DejaVu Sans Mono',consolas,'Courier New',monospace\"><span style=\"font-weight: bold\"> Total params: </span><span style=\"color: #00af00; text-decoration-color: #00af00\">2,626,052</span> (10.02 MB)\n",
       "</pre>\n"
      ],
      "text/plain": [
       "\u001b[1m Total params: \u001b[0m\u001b[38;5;34m2,626,052\u001b[0m (10.02 MB)\n"
      ]
     },
     "metadata": {},
     "output_type": "display_data"
    },
    {
     "data": {
      "text/html": [
       "<pre style=\"white-space:pre;overflow-x:auto;line-height:normal;font-family:Menlo,'DejaVu Sans Mono',consolas,'Courier New',monospace\"><span style=\"font-weight: bold\"> Trainable params: </span><span style=\"color: #00af00; text-decoration-color: #00af00\">1,313,025</span> (5.01 MB)\n",
       "</pre>\n"
      ],
      "text/plain": [
       "\u001b[1m Trainable params: \u001b[0m\u001b[38;5;34m1,313,025\u001b[0m (5.01 MB)\n"
      ]
     },
     "metadata": {},
     "output_type": "display_data"
    },
    {
     "data": {
      "text/html": [
       "<pre style=\"white-space:pre;overflow-x:auto;line-height:normal;font-family:Menlo,'DejaVu Sans Mono',consolas,'Courier New',monospace\"><span style=\"font-weight: bold\"> Non-trainable params: </span><span style=\"color: #00af00; text-decoration-color: #00af00\">0</span> (0.00 B)\n",
       "</pre>\n"
      ],
      "text/plain": [
       "\u001b[1m Non-trainable params: \u001b[0m\u001b[38;5;34m0\u001b[0m (0.00 B)\n"
      ]
     },
     "metadata": {},
     "output_type": "display_data"
    },
    {
     "data": {
      "text/html": [
       "<pre style=\"white-space:pre;overflow-x:auto;line-height:normal;font-family:Menlo,'DejaVu Sans Mono',consolas,'Courier New',monospace\"><span style=\"font-weight: bold\"> Optimizer params: </span><span style=\"color: #00af00; text-decoration-color: #00af00\">1,313,027</span> (5.01 MB)\n",
       "</pre>\n"
      ],
      "text/plain": [
       "\u001b[1m Optimizer params: \u001b[0m\u001b[38;5;34m1,313,027\u001b[0m (5.01 MB)\n"
      ]
     },
     "metadata": {},
     "output_type": "display_data"
    }
   ],
   "source": [
    "# Load the pre-trained model with ReLU activation\n",
    "model = load_model('my_model.keras')\n",
    "model.summary()"
   ]
  },
  {
   "cell_type": "code",
   "execution_count": 41,
   "metadata": {},
   "outputs": [
    {
     "data": {
      "text/plain": [
       "[array([[ 0.07948792, -0.15610208, -0.0962753 , ..., -0.05772405,\n",
       "          0.06401058, -0.10651429],\n",
       "        [-0.03489081,  0.00395961, -0.04249974, ..., -0.05561759,\n",
       "          0.0954989 , -0.02412001],\n",
       "        [ 0.16019866,  0.04714882, -0.14099282, ..., -0.07883072,\n",
       "          0.17970948, -0.09213437],\n",
       "        ...,\n",
       "        [-0.11811596, -0.01219179, -0.11745994, ..., -0.10993494,\n",
       "          0.05078123, -0.10575994],\n",
       "        [ 0.04109981,  0.08189142, -0.00951356, ...,  0.07880012,\n",
       "         -0.04216924,  0.1460892 ],\n",
       "        [-0.17347054, -0.11012118, -0.03381526, ..., -0.0505178 ,\n",
       "          0.02722185, -0.09997851]], dtype=float32),\n",
       " array([[ 0.10692135,  0.09444869,  0.01042573, ..., -0.04415313,\n",
       "         -0.15886946, -0.11950926],\n",
       "        [ 0.01058315, -0.05255986,  0.12475404, ..., -0.08483956,\n",
       "          0.13123506, -0.10141373],\n",
       "        [ 0.00209837,  0.01210992,  0.02885307, ...,  0.09831278,\n",
       "         -0.08611888,  0.07057443],\n",
       "        ...,\n",
       "        [-0.14905024, -0.06008224, -0.04779797, ..., -0.00713908,\n",
       "          0.08316217,  0.03506574],\n",
       "        [-0.03044621, -0.0701241 ,  0.02591098, ...,  0.04758658,\n",
       "          0.12095815, -0.07381497],\n",
       "        [ 0.03002792,  0.01594719, -0.09882028, ..., -0.04663933,\n",
       "         -0.04937105, -0.07028732]], dtype=float32),\n",
       " array([[ 0.03715309, -0.06556851, -0.04850357, ..., -0.02609158,\n",
       "         -0.08358262, -0.01977575],\n",
       "        [-0.08273115, -0.05140642,  0.04146207, ..., -0.03269191,\n",
       "         -0.02167039,  0.01502122],\n",
       "        [-0.0249231 ,  0.08347897,  0.08517572, ..., -0.03571583,\n",
       "         -0.01976292,  0.09576418],\n",
       "        ...,\n",
       "        [ 0.16911484, -0.02552685,  0.06260663, ...,  0.03452118,\n",
       "         -0.05481657, -0.18142018],\n",
       "        [ 0.02277458,  0.03613571, -0.04302412, ...,  0.01820521,\n",
       "          0.22025423,  0.05689548],\n",
       "        [ 0.03425197,  0.09419098,  0.16591434, ..., -0.1650565 ,\n",
       "          0.04129209,  0.02669373]], dtype=float32),\n",
       " array([ 0.02355058, -0.01433497,  0.01064727,  0.00898111,  0.01391172,\n",
       "        -0.02608588, -0.03647595,  0.0518157 , -0.02930192,  0.00343575,\n",
       "        -0.01645494,  0.03723194, -0.03089402, -0.00391369,  0.0253606 ,\n",
       "         0.00943003, -0.0133055 , -0.012361  ,  0.01577049,  0.00152346,\n",
       "        -0.03826566,  0.01313909,  0.03614688,  0.02442701,  0.0017242 ,\n",
       "        -0.02103136,  0.01744139, -0.02564312,  0.0172438 , -0.02923403,\n",
       "         0.01133862, -0.02522489, -0.0079315 , -0.00434697, -0.02611104,\n",
       "        -0.01528412,  0.01949626,  0.00072077,  0.01094603,  0.03402493,\n",
       "         0.01941625, -0.02851188, -0.02398256, -0.03235637, -0.01377545,\n",
       "        -0.03624472,  0.00628455, -0.02471497, -0.01754809, -0.04357071,\n",
       "        -0.00829283,  0.01133267,  0.00418311, -0.00933756, -0.02142669,\n",
       "         0.00481551, -0.00281384, -0.01995617,  0.00164791,  0.0793584 ,\n",
       "        -0.02241972,  0.02260618, -0.03148202, -0.01870359,  0.04354011,\n",
       "         0.00879431,  0.01251689, -0.00581064,  0.03806975,  0.01142844,\n",
       "         0.04585658,  0.02418676, -0.02319686,  0.01552322, -0.04146993,\n",
       "        -0.03495629, -0.02130634,  0.02517317, -0.00573671, -0.06030867,\n",
       "         0.02553733, -0.02809572, -0.00710086, -0.02517295, -0.0210272 ,\n",
       "        -0.02735902, -0.00088678, -0.00996877,  0.02437311,  0.02428179,\n",
       "         0.01472216, -0.01355956, -0.00088827,  0.00769858,  0.01059263,\n",
       "         0.04088588,  0.03646534, -0.01522113,  0.0026902 , -0.02422644,\n",
       "         0.00963885, -0.02209199, -0.00311456,  0.04497599,  0.03138498,\n",
       "        -0.02382076, -0.00073323,  0.00152161,  0.0291835 , -0.01265321,\n",
       "         0.00345399,  0.02311039, -0.00970845,  0.03921204, -0.00821942,\n",
       "        -0.03385292, -0.02936243, -0.00224564, -0.01477245, -0.02737866,\n",
       "        -0.01262433, -0.02794292, -0.00032086,  0.00669184,  0.0344258 ,\n",
       "        -0.00681795,  0.02323897, -0.00827863], dtype=float32),\n",
       " array([[ 0.14429295],\n",
       "        [-0.2643403 ],\n",
       "        [-0.14737253],\n",
       "        [-0.05693465],\n",
       "        [ 0.37375277],\n",
       "        [-0.05333823],\n",
       "        [-0.09940517],\n",
       "        [-0.13278611],\n",
       "        [ 0.03814101],\n",
       "        [-0.18017906],\n",
       "        [ 0.1544051 ],\n",
       "        [-0.44449836],\n",
       "        [ 0.0406726 ],\n",
       "        [-0.02829562],\n",
       "        [ 0.3321013 ],\n",
       "        [-0.48102942],\n",
       "        [-0.20140992],\n",
       "        [ 0.25589293],\n",
       "        [ 0.2369327 ],\n",
       "        [-0.10300561],\n",
       "        [-0.10254412],\n",
       "        [-0.40240583],\n",
       "        [-0.04586378],\n",
       "        [-0.18178263],\n",
       "        [ 0.09281015],\n",
       "        [ 0.29428825],\n",
       "        [-0.39661622],\n",
       "        [-0.26899877],\n",
       "        [-0.21741748],\n",
       "        [-0.20808862],\n",
       "        [-0.1431639 ],\n",
       "        [-0.18637608],\n",
       "        [ 0.39478517],\n",
       "        [-0.18008067],\n",
       "        [ 0.12888129],\n",
       "        [-0.36291155],\n",
       "        [-0.12599787],\n",
       "        [-0.31101978],\n",
       "        [-0.21574421],\n",
       "        [ 0.0933909 ],\n",
       "        [-0.06813721],\n",
       "        [-0.10780707],\n",
       "        [-0.12162979],\n",
       "        [-0.0555479 ],\n",
       "        [-0.1944088 ],\n",
       "        [ 0.17606471],\n",
       "        [ 0.12302617],\n",
       "        [-0.30938777],\n",
       "        [-0.04818184],\n",
       "        [ 0.13418034],\n",
       "        [ 0.17850846],\n",
       "        [ 0.23215315],\n",
       "        [-0.21879716],\n",
       "        [ 0.1879807 ],\n",
       "        [ 0.08515582],\n",
       "        [ 0.0617822 ],\n",
       "        [-0.01037078],\n",
       "        [-0.13420896],\n",
       "        [-0.16746199],\n",
       "        [-0.34570402],\n",
       "        [-0.06858593],\n",
       "        [ 0.05373479],\n",
       "        [ 0.09022796],\n",
       "        [-0.36257303],\n",
       "        [ 0.17950515],\n",
       "        [ 0.27590853],\n",
       "        [-0.08149127],\n",
       "        [ 0.3178263 ],\n",
       "        [ 0.22085235],\n",
       "        [-0.13301781],\n",
       "        [ 0.14675939],\n",
       "        [-0.03492808],\n",
       "        [ 0.24430132],\n",
       "        [ 0.21976347],\n",
       "        [-0.0716465 ],\n",
       "        [ 0.00545449],\n",
       "        [ 0.24144061],\n",
       "        [ 0.07731993],\n",
       "        [-0.01425051],\n",
       "        [ 0.06438234],\n",
       "        [ 0.23153006],\n",
       "        [-0.02230171],\n",
       "        [ 0.18716441],\n",
       "        [-0.05288322],\n",
       "        [-0.23808376],\n",
       "        [-0.23114604],\n",
       "        [ 0.10565911],\n",
       "        [-0.08259625],\n",
       "        [-0.11663359],\n",
       "        [-0.19126295],\n",
       "        [-0.14921173],\n",
       "        [ 0.09807112],\n",
       "        [-0.27634972],\n",
       "        [-0.080378  ],\n",
       "        [ 0.03781514],\n",
       "        [ 0.02853934],\n",
       "        [ 0.01799901],\n",
       "        [-0.48856476],\n",
       "        [-0.10745813],\n",
       "        [-0.13384044],\n",
       "        [-0.29870874],\n",
       "        [-0.10275674],\n",
       "        [ 0.3531729 ],\n",
       "        [ 0.28578568],\n",
       "        [-0.2329694 ],\n",
       "        [-0.07828107],\n",
       "        [-0.13242897],\n",
       "        [-0.14474633],\n",
       "        [ 0.19687532],\n",
       "        [ 0.22844745],\n",
       "        [-0.00447149],\n",
       "        [-0.12603883],\n",
       "        [ 0.08367682],\n",
       "        [ 0.27090606],\n",
       "        [-0.07200795],\n",
       "        [-0.04821736],\n",
       "        [-0.11127023],\n",
       "        [-0.003819  ],\n",
       "        [-0.25973332],\n",
       "        [-0.3063743 ],\n",
       "        [-0.48587182],\n",
       "        [ 0.2706819 ],\n",
       "        [-0.18928352],\n",
       "        [-0.13757156],\n",
       "        [ 0.21816021],\n",
       "        [-0.36640874],\n",
       "        [-0.2563307 ],\n",
       "        [-0.1480905 ]], dtype=float32),\n",
       " array([-0.3543649], dtype=float32)]"
      ]
     },
     "execution_count": 41,
     "metadata": {},
     "output_type": "execute_result"
    }
   ],
   "source": [
    "model.get_weights()"
   ]
  },
  {
   "cell_type": "code",
   "execution_count": 42,
   "metadata": {},
   "outputs": [],
   "source": [
    "# Step 2: Helper Functions\n",
    "# Function to decode reviews\n",
    "def decode_review(encoded_review):\n",
    "    return ' '.join([reverse_word_index.get(i - 3, '?') for i in encoded_review])\n",
    "\n",
    "# Function to preprocess user input\n",
    "def preprocess_text(text):\n",
    "    words = text.lower().split()\n",
    "    encoded_review = [word_index.get(word, 2) + 3 for word in words]\n",
    "    padded_review = sequence.pad_sequences([encoded_review], maxlen=500)\n",
    "    return padded_review"
   ]
  },
  {
   "cell_type": "code",
   "execution_count": 43,
   "metadata": {},
   "outputs": [],
   "source": [
    "### Prediction  function\n",
    "\n",
    "def predict_sentiment(review):\n",
    "    preprocessed_input=preprocess_text(review)\n",
    "\n",
    "    prediction=model.predict(preprocessed_input)\n",
    "\n",
    "    sentiment = 'Positive' if prediction[0][0] > 0.5 else 'Negative'\n",
    "    \n",
    "    return sentiment, prediction[0][0]\n",
    "\n"
   ]
  },
  {
   "cell_type": "code",
   "execution_count": 46,
   "metadata": {},
   "outputs": [
    {
     "name": "stdout",
     "output_type": "stream",
     "text": [
      "\u001b[1m1/1\u001b[0m \u001b[32m━━━━━━━━━━━━━━━━━━━━\u001b[0m\u001b[37m\u001b[0m \u001b[1m0s\u001b[0m 23ms/step\n",
      "Review: This movie was fantastic! The acting was great and the plot was thrilling\n",
      "Sentiment: Positive\n",
      "Prediction Score: 0.7011789083480835\n"
     ]
    }
   ],
   "source": [
    "# Step 4: User Input and Prediction\n",
    "# Example review for prediction\n",
    "example_review = \"This movie was fantastic! The acting was great and the plot was thrilling\"\n",
    "\n",
    "sentiment,score=predict_sentiment(example_review)\n",
    "\n",
    "print(f'Review: {example_review}')\n",
    "print(f'Sentiment: {sentiment}')\n",
    "print(f'Prediction Score: {score}')"
   ]
  },
  {
   "cell_type": "code",
   "execution_count": null,
   "metadata": {},
   "outputs": [],
   "source": []
  },
  {
   "cell_type": "code",
   "execution_count": null,
   "metadata": {},
   "outputs": [],
   "source": []
  }
 ],
 "metadata": {
  "kernelspec": {
   "display_name": "Python 3",
   "language": "python",
   "name": "python3"
  },
  "language_info": {
   "codemirror_mode": {
    "name": "ipython",
    "version": 3
   },
   "file_extension": ".py",
   "mimetype": "text/x-python",
   "name": "python",
   "nbconvert_exporter": "python",
   "pygments_lexer": "ipython3",
   "version": "3.12.0"
  }
 },
 "nbformat": 4,
 "nbformat_minor": 2
}
